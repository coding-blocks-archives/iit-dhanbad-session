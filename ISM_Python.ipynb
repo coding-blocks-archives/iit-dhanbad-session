{
  "nbformat": 4,
  "nbformat_minor": 0,
  "metadata": {
    "colab": {
      "name": "ISM-Python",
      "provenance": []
    },
    "kernelspec": {
      "name": "python3",
      "display_name": "Python 3"
    }
  },
  "cells": [
    {
      "cell_type": "code",
      "metadata": {
        "id": "sEXvQwGC639O",
        "colab_type": "code",
        "colab": {
          "base_uri": "https://localhost:8080/",
          "height": 34
        },
        "outputId": "9baab3f7-7bc4-4e6d-a8f6-8a4b58d7ae1e"
      },
      "source": [
        "print(\"Hello\")\n",
        "# Shift + Enter to run"
      ],
      "execution_count": 1,
      "outputs": [
        {
          "output_type": "stream",
          "text": [
            "Hello\n"
          ],
          "name": "stdout"
        }
      ]
    },
    {
      "cell_type": "code",
      "metadata": {
        "id": "wTWUfjOQ7CXB",
        "colab_type": "code",
        "colab": {
          "base_uri": "https://localhost:8080/",
          "height": 34
        },
        "outputId": "c3f72bb5-f77c-4d94-c81c-355090f02646"
      },
      "source": [
        "a =10\n",
        "b = 20.5\n",
        "c = 5\n",
        "y = a*b - c\n",
        "print(\"y\",y)"
      ],
      "execution_count": 7,
      "outputs": [
        {
          "output_type": "stream",
          "text": [
            "y 200.0\n"
          ],
          "name": "stdout"
        }
      ]
    },
    {
      "cell_type": "code",
      "metadata": {
        "id": "cicE85wL7g2r",
        "colab_type": "code",
        "colab": {
          "base_uri": "https://localhost:8080/",
          "height": 34
        },
        "outputId": "a27441f9-1b3f-4ffe-bc84-415d24bfa670"
      },
      "source": [
        "print(type(y))"
      ],
      "execution_count": 5,
      "outputs": [
        {
          "output_type": "stream",
          "text": [
            "<class 'float'>\n"
          ],
          "name": "stdout"
        }
      ]
    },
    {
      "cell_type": "code",
      "metadata": {
        "id": "djL68hSj76XC",
        "colab_type": "code",
        "colab": {
          "base_uri": "https://localhost:8080/",
          "height": 51
        },
        "outputId": "d9840e67-9187-43b1-8935-5197289b8f00"
      },
      "source": [
        "college = input()\n",
        "print(\"You are at \" + college)"
      ],
      "execution_count": 8,
      "outputs": [
        {
          "output_type": "stream",
          "text": [
            "IIT Dhanbad\n",
            "You are at IIT Dhanbad\n"
          ],
          "name": "stdout"
        }
      ]
    },
    {
      "cell_type": "code",
      "metadata": {
        "id": "D0LciHps8iCX",
        "colab_type": "code",
        "colab": {
          "base_uri": "https://localhost:8080/",
          "height": 68
        },
        "outputId": "96813088-d2b7-48d6-9869-c85338631297"
      },
      "source": [
        "no = int(input())\n",
        "print(type(no))\n",
        "print(no+1)\n"
      ],
      "execution_count": 12,
      "outputs": [
        {
          "output_type": "stream",
          "text": [
            "100\n",
            "<class 'int'>\n",
            "101\n"
          ],
          "name": "stdout"
        }
      ]
    },
    {
      "cell_type": "code",
      "metadata": {
        "id": "qUwSaVxC8vF0",
        "colab_type": "code",
        "colab": {
          "base_uri": "https://localhost:8080/",
          "height": 34
        },
        "outputId": "a4c67581-e29f-4575-c2b3-0b481d3f45f7"
      },
      "source": [
        "\"Heloo\"*6"
      ],
      "execution_count": 16,
      "outputs": [
        {
          "output_type": "execute_result",
          "data": {
            "text/plain": [
              "'HelooHelooHelooHelooHelooHeloo'"
            ]
          },
          "metadata": {
            "tags": []
          },
          "execution_count": 16
        }
      ]
    },
    {
      "cell_type": "code",
      "metadata": {
        "id": "BHwkq0eX9OkU",
        "colab_type": "code",
        "colab": {
          "base_uri": "https://localhost:8080/",
          "height": 51
        },
        "outputId": "7e2fcc9f-643d-4e22-b727-c4351b0ad141"
      },
      "source": [
        "weather = \"Rainy\"\n",
        "\n",
        "if weather==\"Rainy\":\n",
        "    print(\"Don't go out\")\n",
        "else:\n",
        "    print(\"Lets go for outing\")\n",
        "print(\"Outside else\")"
      ],
      "execution_count": 25,
      "outputs": [
        {
          "output_type": "stream",
          "text": [
            "Don't go out\n",
            "Outside else\n"
          ],
          "name": "stdout"
        }
      ]
    },
    {
      "cell_type": "code",
      "metadata": {
        "id": "-gjOBxpZ9tzE",
        "colab_type": "code",
        "colab": {
          "base_uri": "https://localhost:8080/",
          "height": 34
        },
        "outputId": "85bf504e-1bc5-4cba-81a4-d595d3398b48"
      },
      "source": [
        "a=6\n",
        "a==6"
      ],
      "execution_count": 33,
      "outputs": [
        {
          "output_type": "execute_result",
          "data": {
            "text/plain": [
              "False"
            ]
          },
          "metadata": {
            "tags": []
          },
          "execution_count": 33
        }
      ]
    },
    {
      "cell_type": "code",
      "metadata": {
        "id": "ha-FcHo295S1",
        "colab_type": "code",
        "colab": {
          "base_uri": "https://localhost:8080/",
          "height": 34
        },
        "outputId": "33b7348f-0ced-4025-d692-5187a9d6592e"
      },
      "source": [
        "# List is a data structure\n",
        "# You can store any number of elements\n",
        "l = [1,2,3,5,\"Hello\",[10,20,30]]\n",
        "print(l)"
      ],
      "execution_count": 34,
      "outputs": [
        {
          "output_type": "stream",
          "text": [
            "[1, 2, 3, 5, 'Hello', [10, 20, 30]]\n"
          ],
          "name": "stdout"
        }
      ]
    },
    {
      "cell_type": "code",
      "metadata": {
        "id": "yFeKzB3c-qGt",
        "colab_type": "code",
        "colab": {
          "base_uri": "https://localhost:8080/",
          "height": 34
        },
        "outputId": "2504c96b-860b-4fd9-cc89-17514a7179a5"
      },
      "source": [
        "l[-2]"
      ],
      "execution_count": 32,
      "outputs": [
        {
          "output_type": "execute_result",
          "data": {
            "text/plain": [
              "'Hello'"
            ]
          },
          "metadata": {
            "tags": []
          },
          "execution_count": 32
        }
      ]
    },
    {
      "cell_type": "code",
      "metadata": {
        "id": "leHe6L6l_Dg7",
        "colab_type": "code",
        "colab": {
          "base_uri": "https://localhost:8080/",
          "height": 34
        },
        "outputId": "11498a81-2238-470a-96df-368898634907"
      },
      "source": [
        "l.append(9)\n",
        "print(l)"
      ],
      "execution_count": 36,
      "outputs": [
        {
          "output_type": "stream",
          "text": [
            "[1, 2, 3, 5, 'Hello', [10, 20, 30], 9]\n"
          ],
          "name": "stdout"
        }
      ]
    },
    {
      "cell_type": "code",
      "metadata": {
        "id": "zrHmrtW_Ahb9",
        "colab_type": "code",
        "colab": {
          "base_uri": "https://localhost:8080/",
          "height": 34
        },
        "outputId": "0782a876-9a84-4b13-a16f-e1b0e930c666"
      },
      "source": [
        "l.remove(3)\n",
        "print(l)"
      ],
      "execution_count": 40,
      "outputs": [
        {
          "output_type": "stream",
          "text": [
            "[1, 2, 5, 'Hello', [10, 20, 30], 9]\n"
          ],
          "name": "stdout"
        }
      ]
    },
    {
      "cell_type": "code",
      "metadata": {
        "id": "oQwDtfe2A-gi",
        "colab_type": "code",
        "colab": {
          "base_uri": "https://localhost:8080/",
          "height": 34
        },
        "outputId": "9a0ce618-a24b-479a-ade6-b1d979f77e0f"
      },
      "source": [
        "l[1:4]"
      ],
      "execution_count": 41,
      "outputs": [
        {
          "output_type": "execute_result",
          "data": {
            "text/plain": [
              "[2, 5, 'Hello']"
            ]
          },
          "metadata": {
            "tags": []
          },
          "execution_count": 41
        }
      ]
    },
    {
      "cell_type": "code",
      "metadata": {
        "id": "8163DpoaB4cZ",
        "colab_type": "code",
        "colab": {
          "base_uri": "https://localhost:8080/",
          "height": 34
        },
        "outputId": "57687f1d-9915-4fef-b901-91b554d3a437"
      },
      "source": [
        "l[1:]"
      ],
      "execution_count": 42,
      "outputs": [
        {
          "output_type": "execute_result",
          "data": {
            "text/plain": [
              "[2, 5, 'Hello', [10, 20, 30], 9]"
            ]
          },
          "metadata": {
            "tags": []
          },
          "execution_count": 42
        }
      ]
    },
    {
      "cell_type": "code",
      "metadata": {
        "id": "WWyrMP3LCGh0",
        "colab_type": "code",
        "colab": {
          "base_uri": "https://localhost:8080/",
          "height": 34
        },
        "outputId": "f151960d-9ca9-49a5-9203-04cdcddf85af"
      },
      "source": [
        "l[1: :2]"
      ],
      "execution_count": 45,
      "outputs": [
        {
          "output_type": "execute_result",
          "data": {
            "text/plain": [
              "[2, 'Hello', 9]"
            ]
          },
          "metadata": {
            "tags": []
          },
          "execution_count": 45
        }
      ]
    },
    {
      "cell_type": "code",
      "metadata": {
        "id": "87Mu_JPcCOMQ",
        "colab_type": "code",
        "colab": {
          "base_uri": "https://localhost:8080/",
          "height": 34
        },
        "outputId": "c48c943a-2979-48d7-d7f0-7fc05efab525"
      },
      "source": [
        "l[: :-1]"
      ],
      "execution_count": 46,
      "outputs": [
        {
          "output_type": "execute_result",
          "data": {
            "text/plain": [
              "[9, [10, 20, 30], 'Hello', 5, 2, 1]"
            ]
          },
          "metadata": {
            "tags": []
          },
          "execution_count": 46
        }
      ]
    },
    {
      "cell_type": "code",
      "metadata": {
        "id": "waCi0mmRCfj1",
        "colab_type": "code",
        "colab": {
          "base_uri": "https://localhost:8080/",
          "height": 34
        },
        "outputId": "b468e3a9-460b-49cc-b1f9-a0d579d50c19"
      },
      "source": [
        "l2 = [4,3,1,2,0,10]\n",
        "print(l2)"
      ],
      "execution_count": 48,
      "outputs": [
        {
          "output_type": "stream",
          "text": [
            "[4, 3, 1, 2, 0, 10]\n"
          ],
          "name": "stdout"
        }
      ]
    },
    {
      "cell_type": "code",
      "metadata": {
        "id": "Dg_0-L6HCk45",
        "colab_type": "code",
        "colab": {}
      },
      "source": [
        "l2.sort(reverse=True)"
      ],
      "execution_count": 0,
      "outputs": []
    },
    {
      "cell_type": "code",
      "metadata": {
        "id": "0Zyv7vKmCwZx",
        "colab_type": "code",
        "colab": {
          "base_uri": "https://localhost:8080/",
          "height": 34
        },
        "outputId": "bec81ef1-3ac3-4bf6-a4d9-9493d5fee8f4"
      },
      "source": [
        "l2"
      ],
      "execution_count": 52,
      "outputs": [
        {
          "output_type": "execute_result",
          "data": {
            "text/plain": [
              "[10, 4, 3, 2, 1, 0]"
            ]
          },
          "metadata": {
            "tags": []
          },
          "execution_count": 52
        }
      ]
    },
    {
      "cell_type": "code",
      "metadata": {
        "id": "ShXMhGHNCxXz",
        "colab_type": "code",
        "colab": {
          "base_uri": "https://localhost:8080/",
          "height": 85
        },
        "outputId": "fbf46c9a-1efc-4df0-a778-c4c9ab45c786"
      },
      "source": [
        "#loops in python\n",
        "step = 1\n",
        "while step<=5:\n",
        "    print(\"Walk step \",step)\n",
        "    step = step + 2\n",
        "\n",
        "print(\"Reached Gate\")\n"
      ],
      "execution_count": 55,
      "outputs": [
        {
          "output_type": "stream",
          "text": [
            "Walk step  1\n",
            "Walk step  3\n",
            "Walk step  5\n",
            "Reached Gate\n"
          ],
          "name": "stdout"
        }
      ]
    },
    {
      "cell_type": "code",
      "metadata": {
        "id": "iMrk1SWsDiUQ",
        "colab_type": "code",
        "colab": {
          "base_uri": "https://localhost:8080/",
          "height": 68
        },
        "outputId": "72b77e50-2479-4379-deb6-dba1e1dda62f"
      },
      "source": [
        "for x in range(1,6,2):\n",
        "    print(x)"
      ],
      "execution_count": 59,
      "outputs": [
        {
          "output_type": "stream",
          "text": [
            "1\n",
            "3\n",
            "5\n"
          ],
          "name": "stdout"
        }
      ]
    },
    {
      "cell_type": "code",
      "metadata": {
        "id": "TEabAAOKD_q_",
        "colab_type": "code",
        "colab": {}
      },
      "source": [
        "# Functions\n",
        "# Functions are like small modules to do a particular task\n",
        "# Function : Group of Instructions \n",
        "\n",
        "def sayHello(name):\n",
        "    print(\"Hello \" +name)\n",
        "    return\n"
      ],
      "execution_count": 0,
      "outputs": []
    },
    {
      "cell_type": "code",
      "metadata": {
        "id": "ipihudIqEuKK",
        "colab_type": "code",
        "colab": {}
      },
      "source": [
        "def fact(n):\n",
        "    ans = 1\n",
        "    for i in range(1,n+1):\n",
        "        ans = ans*i\n",
        "    return ans"
      ],
      "execution_count": 0,
      "outputs": []
    },
    {
      "cell_type": "code",
      "metadata": {
        "id": "KPfzb-P7E39d",
        "colab_type": "code",
        "colab": {
          "base_uri": "https://localhost:8080/",
          "height": 34
        },
        "outputId": "2bf8a8e9-0479-4f35-9efe-2eba5da26c55"
      },
      "source": [
        "fact(7)"
      ],
      "execution_count": 67,
      "outputs": [
        {
          "output_type": "execute_result",
          "data": {
            "text/plain": [
              "5040"
            ]
          },
          "metadata": {
            "tags": []
          },
          "execution_count": 67
        }
      ]
    },
    {
      "cell_type": "code",
      "metadata": {
        "id": "pYzVYxFyFYt0",
        "colab_type": "code",
        "colab": {
          "base_uri": "https://localhost:8080/",
          "height": 130
        },
        "outputId": "189e4ac5-a432-4798-ebd9-10f6c2dcbfe6"
      },
      "source": [
        "# Write a Function to Print Star Pattern for given n\n",
        "\n",
        "N = 3\n",
        "*\n",
        "**\n",
        "***\n",
        "\n",
        "N = 3\n",
        "  *\n",
        " ***\n",
        "*****"
      ],
      "execution_count": 68,
      "outputs": [
        {
          "output_type": "error",
          "ename": "SyntaxError",
          "evalue": "ignored",
          "traceback": [
            "\u001b[0;36m  File \u001b[0;32m\"<ipython-input-68-e92b0e382e97>\"\u001b[0;36m, line \u001b[0;32m3\u001b[0m\n\u001b[0;31m    *\u001b[0m\n\u001b[0m     ^\u001b[0m\n\u001b[0;31mSyntaxError\u001b[0m\u001b[0;31m:\u001b[0m invalid syntax\n"
          ]
        }
      ]
    },
    {
      "cell_type": "code",
      "metadata": {
        "id": "awb7R_rlHONp",
        "colab_type": "code",
        "colab": {
          "base_uri": "https://localhost:8080/",
          "height": 102
        },
        "outputId": "095f5421-c3d0-4fe3-8dcf-824408194b7d"
      },
      "source": [
        "def star_one(n):\n",
        "    for i in range(1,n+1):\n",
        "        print(\"*\"*i)\n",
        "\n",
        "star_one(5)"
      ],
      "execution_count": 70,
      "outputs": [
        {
          "output_type": "stream",
          "text": [
            "*\n",
            "**\n",
            "***\n",
            "****\n",
            "*****\n"
          ],
          "name": "stdout"
        }
      ]
    },
    {
      "cell_type": "code",
      "metadata": {
        "id": "zgD-x5bnH6Vh",
        "colab_type": "code",
        "colab": {
          "base_uri": "https://localhost:8080/",
          "height": 102
        },
        "outputId": "57f1f3c2-02d4-427e-f272-6e311370c5e8"
      },
      "source": [
        "def star_two(n):\n",
        "    for i in range(1,n+1):\n",
        "        print(\" \"*(n-i),\"*\"*(2*i-1))\n",
        "\n",
        "star_two(5)"
      ],
      "execution_count": 74,
      "outputs": [
        {
          "output_type": "stream",
          "text": [
            "     *\n",
            "    ***\n",
            "   *****\n",
            "  *******\n",
            " *********\n"
          ],
          "name": "stdout"
        }
      ]
    },
    {
      "cell_type": "code",
      "metadata": {
        "id": "hogdzXedIHHK",
        "colab_type": "code",
        "colab": {
          "base_uri": "https://localhost:8080/",
          "height": 34
        },
        "outputId": "020c723f-9905-42d0-a242-285d7bfa8f5d"
      },
      "source": [
        "# Tuple is read only list\n",
        "a = (1,2,3)\n",
        "print(a)"
      ],
      "execution_count": 78,
      "outputs": [
        {
          "output_type": "stream",
          "text": [
            "(1, 2, 3)\n"
          ],
          "name": "stdout"
        }
      ]
    },
    {
      "cell_type": "code",
      "metadata": {
        "id": "al705eOUKIEa",
        "colab_type": "code",
        "colab": {
          "base_uri": "https://localhost:8080/",
          "height": 164
        },
        "outputId": "74d895c6-7ed3-42ef-b43a-b06638985b9e"
      },
      "source": [
        ""
      ],
      "execution_count": 77,
      "outputs": [
        {
          "output_type": "error",
          "ename": "TypeError",
          "evalue": "ignored",
          "traceback": [
            "\u001b[0;31m---------------------------------------------------------------------------\u001b[0m",
            "\u001b[0;31mTypeError\u001b[0m                                 Traceback (most recent call last)",
            "\u001b[0;32m<ipython-input-77-9bdca909cd90>\u001b[0m in \u001b[0;36m<module>\u001b[0;34m()\u001b[0m\n\u001b[0;32m----> 1\u001b[0;31m \u001b[0ma\u001b[0m\u001b[0;34m[\u001b[0m\u001b[0;36m0\u001b[0m\u001b[0;34m]\u001b[0m\u001b[0;34m=\u001b[0m\u001b[0;36m6\u001b[0m\u001b[0;34m\u001b[0m\u001b[0;34m\u001b[0m\u001b[0m\n\u001b[0m",
            "\u001b[0;31mTypeError\u001b[0m: 'tuple' object does not support item assignment"
          ]
        }
      ]
    },
    {
      "cell_type": "code",
      "metadata": {
        "id": "6i8vpw5xKLJY",
        "colab_type": "code",
        "colab": {}
      },
      "source": [
        ""
      ],
      "execution_count": 0,
      "outputs": []
    }
  ]
}